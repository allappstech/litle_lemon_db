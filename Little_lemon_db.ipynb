{
 "cells": [
  {
   "cell_type": "code",
   "execution_count": 1,
   "id": "6d99191a",
   "metadata": {},
   "outputs": [],
   "source": [
    "import mysql.connector as connector"
   ]
  },
  {
   "cell_type": "code",
   "execution_count": 2,
   "id": "a5991147",
   "metadata": {},
   "outputs": [],
   "source": [
    "connection=connector.connect(user=\"root\",password=\"\")"
   ]
  },
  {
   "cell_type": "code",
   "execution_count": 3,
   "id": "7db0a035",
   "metadata": {},
   "outputs": [],
   "source": [
    "cursor = connection.cursor()"
   ]
  },
  {
   "cell_type": "code",
   "execution_count": 4,
   "id": "5a9501bc",
   "metadata": {},
   "outputs": [],
   "source": [
    "cursor.execute(\"CREATE DATABASE little_lemon_db\") "
   ]
  },
  {
   "cell_type": "code",
   "execution_count": 5,
   "id": "4dc304ae",
   "metadata": {},
   "outputs": [],
   "source": [
    "cursor.execute(\"USE little_lemon_db\")"
   ]
  },
  {
   "cell_type": "code",
   "execution_count": 6,
   "id": "266d13bd",
   "metadata": {},
   "outputs": [],
   "source": [
    "create_menuitem_table = \"\"\"CREATE TABLE MenuItems (\n",
    "ItemID INT AUTO_INCREMENT,\n",
    "Name VARCHAR(200),\n",
    "Type VARCHAR(100),\n",
    "Price INT,\n",
    "PRIMARY KEY (ItemID)\n",
    ");\"\"\""
   ]
  },
  {
   "cell_type": "code",
   "execution_count": 7,
   "id": "9de5619b",
   "metadata": {},
   "outputs": [],
   "source": [
    "create_menu_table = \"\"\"CREATE TABLE Menus (\n",
    "MenuID INT,\n",
    "ItemID INT,\n",
    "Cuisine VARCHAR(100),\n",
    "PRIMARY KEY (MenuID,ItemID)\n",
    ");\"\"\""
   ]
  },
  {
   "cell_type": "code",
   "execution_count": 8,
   "id": "7e6abb15",
   "metadata": {},
   "outputs": [],
   "source": [
    "Create_booking_table = \"\"\"CREATE TABLE Bookings (\n",
    "BookingID INT AUTO_INCREMENT,\n",
    "TableNo INT,\n",
    "GuestFirstName VARCHAR(100) NOT NULL,\n",
    "GuestLastName VARCHAR(100) NOT NULL,\n",
    "BookingSlot TIME NOT NULL,\n",
    "EmployeeID INT,\n",
    "PRIMARY KEY (BookingID)\n",
    ");\"\"\""
   ]
  },
  {
   "cell_type": "code",
   "execution_count": 9,
   "id": "d7b86891",
   "metadata": {},
   "outputs": [],
   "source": [
    "create_orders_table = \"\"\"CREATE TABLE Orders (\n",
    "OrderID INT,\n",
    "TableNo INT,\n",
    "MenuID INT,\n",
    "BookingID INT,\n",
    "BillAmount INT,\n",
    "Quantity INT,\n",
    "PRIMARY KEY (OrderID,TableNo)\n",
    ");\"\"\""
   ]
  },
  {
   "cell_type": "code",
   "execution_count": 10,
   "id": "7dd70bc4",
   "metadata": {},
   "outputs": [],
   "source": [
    "create_employees_table = \"\"\"CREATE TABLE Employees (\n",
    "EmployeeID INT AUTO_INCREMENT PRIMARY KEY,\n",
    "Name VARCHAR,\n",
    "Role VARCHAR,\n",
    "Address VARCHAR,\n",
    "Contact_Number INT,\n",
    "Email VARCHAR,\n",
    "Annual_Salary VARCHAR\n",
    ");\"\"\""
   ]
  },
  {
   "cell_type": "code",
   "execution_count": 11,
   "id": "3baaee71",
   "metadata": {},
   "outputs": [],
   "source": [
    "cursor.execute(create_menuitem_table)"
   ]
  },
  {
   "cell_type": "code",
   "execution_count": 12,
   "id": "bcbcc1e1",
   "metadata": {},
   "outputs": [],
   "source": [
    "cursor.execute(create_menu_table)"
   ]
  },
  {
   "cell_type": "code",
   "execution_count": 13,
   "id": "9fb9694c",
   "metadata": {},
   "outputs": [],
   "source": [
    "cursor.execute(Create_booking_table)"
   ]
  },
  {
   "cell_type": "code",
   "execution_count": 14,
   "id": "6190d92f",
   "metadata": {},
   "outputs": [],
   "source": [
    "cursor.execute(create_orders_table)"
   ]
  },
  {
   "cell_type": "code",
   "execution_count": 15,
   "id": "8dc13c4d",
   "metadata": {},
   "outputs": [],
   "source": [
    "create_employees_table = \"\"\"CREATE TABLE Employees (\n",
    "EmployeeID INT AUTO_INCREMENT PRIMARY KEY,\n",
    "Name VARCHAR(80),\n",
    "Role VARCHAR(40),\n",
    "Address VARCHAR(120),\n",
    "Contact_Number INT,\n",
    "Email VARCHAR(60),\n",
    "Annual_Salary VARCHAR(30)\n",
    ");\"\"\""
   ]
  },
  {
   "cell_type": "code",
   "execution_count": 16,
   "id": "3c170a30",
   "metadata": {},
   "outputs": [],
   "source": [
    "cursor.execute(create_employees_table)"
   ]
  },
  {
   "cell_type": "code",
   "execution_count": 17,
   "id": "7c1ceba7",
   "metadata": {},
   "outputs": [],
   "source": [
    "insert_menuitems=\"\"\"\n",
    "INSERT INTO MenuItems (ItemID, Name, Type, Price)\n",
    "VALUES\n",
    "(1, 'Olives','Starters',5),\n",
    "(2, 'Flatbread','Starters', 5),\n",
    "(3, 'Minestrone', 'Starters', 8),\n",
    "(4, 'Tomato bread','Starters', 8),\n",
    "(5, 'Falafel', 'Starters', 7),\n",
    "(6, 'Hummus', 'Starters', 5),\n",
    "(7, 'Greek salad', 'Main Courses', 15),\n",
    "(8, 'Bean soup', 'Main Courses', 12),\n",
    "(9, 'Pizza', 'Main Courses', 15),\n",
    "(10, 'Greek yoghurt','Desserts', 7),\n",
    "(11, 'Ice cream', 'Desserts', 6),\n",
    "(12, 'Cheesecake', 'Desserts', 4),\n",
    "(13, 'Athens White wine', 'Drinks', 25),\n",
    "(14, 'Corfu Red Wine', 'Drinks', 30),\n",
    "(15, 'Turkish Coffee', 'Drinks', 10),\n",
    "(16, 'Turkish Coffee', 'Drinks', 10),\n",
    "(17, 'Kabasa', 'Main Courses', 17);\"\"\""
   ]
  },
  {
   "cell_type": "code",
   "execution_count": 18,
   "id": "aa2ddbba",
   "metadata": {},
   "outputs": [],
   "source": [
    "insert_menu=\"\"\"\n",
    "INSERT INTO Menus (MenuID,ItemID,Cuisine)\n",
    "VALUES\n",
    "(1, 1, 'Greek'),\n",
    "(1, 7, 'Greek'),\n",
    "(1, 10, 'Greek'),\n",
    "(1, 13, 'Greek'),\n",
    "(2, 3, 'Italian'),\n",
    "(2, 9, 'Italian'),\n",
    "(2, 12, 'Italian'),\n",
    "(2, 15, 'Italian'),\n",
    "(3, 5, 'Turkish'),\n",
    "(3, 17, 'Turkish'),\n",
    "(3, 11, 'Turkish'),\n",
    "(3, 16, 'Turkish');\"\"\""
   ]
  },
  {
   "cell_type": "code",
   "execution_count": 19,
   "id": "99c6726b",
   "metadata": {},
   "outputs": [],
   "source": [
    "insert_bookings=\"\"\"\n",
    "INSERT INTO Bookings (BookingID, TableNo, GuestFirstName, \n",
    "GuestLastName, BookingSlot, EmployeeID)\n",
    "VALUES\n",
    "(1, 12, 'Anna','Iversen','19:00:00',1),\n",
    "(2, 12, 'Joakim', 'Iversen', '19:00:00', 1),\n",
    "(3, 19, 'Vanessa', 'McCarthy', '15:00:00', 3),\n",
    "(4, 15, 'Marcos', 'Romero', '17:30:00', 4),\n",
    "(5, 5, 'Hiroki', 'Yamane', '18:30:00', 2),\n",
    "(6, 8, 'Diana', 'Pinto', '20:00:00', 5);\"\"\""
   ]
  },
  {
   "cell_type": "code",
   "execution_count": 20,
   "id": "db96f2f5",
   "metadata": {},
   "outputs": [],
   "source": [
    "insert_orders=\"\"\"\n",
    "INSERT INTO Orders (OrderID, TableNo, MenuID, BookingID, Quantity, BillAmount)\n",
    "VALUES\n",
    "(1, 12, 1, 1, 2, 86),\n",
    "(2, 19, 2, 2, 1, 37),\n",
    "(3, 15, 2, 3, 1, 37),\n",
    "(4, 5, 3, 4, 1, 40),\n",
    "(5, 8, 1, 5, 1, 43);\"\"\""
   ]
  },
  {
   "cell_type": "code",
   "execution_count": 21,
   "id": "5ac0051a",
   "metadata": {},
   "outputs": [],
   "source": [
    "insert_employees = \"\"\"INSERT INTO employees (EmployeeID, Name, Role, Address, Contact_Number, Email, Annual_Salary)VALUES\n",
    "(01,'Mario Gollini','Manager','724 Parsley Lane Old Town Chicago IL','351258074','Mario.g@littlelemon.com','$70000'),\n",
    "(02,'Adrian Gollini','Assistant Manager','334 Dill Square Lincoln Park Chicago IL',351474048,'Adrian.g@littlelemon.com','$65000'),\n",
    "(03,'Giorgos Dioudis','Head Chef','879 Sage Street West Loop Chicago IL','351970582','Giorgos.d@littlelemon.com','$50000'),\n",
    "(04,'Fatma Kaya','Assistant Chef','132  Bay Lane Chicago IL','351963569','Fatma.k@littlelemon.com','$45000'),\n",
    "(05,'Elena Salvai','Head Waiter','989 Thyme Square EdgeWater Chicago IL','351074198','Elena.s@littlelemon.com','$40000'),\n",
    "(06,'John Millar','Receptionist','245 Dill Square Lincoln Park Chicago IL','351584508','John.m@littlelemon.com','$35000');\"\"\""
   ]
  },
  {
   "cell_type": "code",
   "execution_count": 22,
   "id": "fbb2870b",
   "metadata": {},
   "outputs": [],
   "source": [
    "cursor.execute(insert_menuitems)"
   ]
  },
  {
   "cell_type": "code",
   "execution_count": 23,
   "id": "a72228f2",
   "metadata": {},
   "outputs": [],
   "source": [
    "connection.commit()"
   ]
  },
  {
   "cell_type": "code",
   "execution_count": 24,
   "id": "29453260",
   "metadata": {},
   "outputs": [],
   "source": [
    "cursor.execute(insert_menu)"
   ]
  },
  {
   "cell_type": "code",
   "execution_count": 25,
   "id": "dc7fa8ff",
   "metadata": {},
   "outputs": [],
   "source": [
    "connection.commit()"
   ]
  },
  {
   "cell_type": "code",
   "execution_count": 26,
   "id": "a7efcad4",
   "metadata": {},
   "outputs": [],
   "source": [
    "cursor.execute(insert_bookings)"
   ]
  },
  {
   "cell_type": "code",
   "execution_count": 27,
   "id": "1766c4eb",
   "metadata": {},
   "outputs": [],
   "source": [
    "connection.commit()"
   ]
  },
  {
   "cell_type": "code",
   "execution_count": 28,
   "id": "d6271624",
   "metadata": {},
   "outputs": [],
   "source": [
    "cursor.execute(insert_orders)"
   ]
  },
  {
   "cell_type": "code",
   "execution_count": 29,
   "id": "67df0b89",
   "metadata": {},
   "outputs": [],
   "source": [
    "connection.commit()"
   ]
  },
  {
   "cell_type": "code",
   "execution_count": 30,
   "id": "0a9cb029",
   "metadata": {},
   "outputs": [],
   "source": [
    "cursor.execute(insert_employees)"
   ]
  },
  {
   "cell_type": "code",
   "execution_count": 31,
   "id": "fe3ee1a5",
   "metadata": {},
   "outputs": [],
   "source": [
    "connection.commit()"
   ]
  },
  {
   "cell_type": "code",
   "execution_count": 32,
   "id": "833f64f2",
   "metadata": {},
   "outputs": [],
   "source": [
    "dbconfig={\"database\":\"little_lemon_db\", \"user\":\"root\", \"password\":\"\"}"
   ]
  },
  {
   "cell_type": "code",
   "execution_count": 33,
   "id": "dbc6ebcb",
   "metadata": {},
   "outputs": [
    {
     "name": "stdout",
     "output_type": "stream",
     "text": [
      "name of the pool mario\n",
      "size of the pool 2\n"
     ]
    }
   ],
   "source": [
    "from mysql.connector.pooling import MySQLConnectionPool\n",
    "from mysql.connector import Error\n",
    "try:\n",
    "   pool = MySQLConnectionPool(pool_name = \"mario\",pool_size = 2 , **dbconfig)\n",
    "   print(\"name of the pool\",pool.pool_name)\n",
    "   print(\"size of the pool\",pool.pool_size)\n",
    "except Error as er:\n",
    "    print(\"error code\",er.errno)\n",
    "    print(\"message\",er.msg)"
   ]
  },
  {
   "cell_type": "code",
   "execution_count": 34,
   "id": "2517b999",
   "metadata": {},
   "outputs": [
    {
     "name": "stdout",
     "output_type": "stream",
     "text": [
      "Getting a connection from the pool.\n",
      "'connection1' object is created with a connection from the pool\n"
     ]
    }
   ],
   "source": [
    "print(\"Getting a connection from the pool.\")\n",
    "connection1 = pool.get_connection()\n",
    "print(\"'connection1' object is created with a connection from the pool\")"
   ]
  },
  {
   "cell_type": "code",
   "execution_count": 35,
   "id": "010310ad",
   "metadata": {},
   "outputs": [
    {
     "data": {
      "text/plain": [
       "<bound method CMySQLConnection.commit of <mysql.connector.connection_cext.CMySQLConnection object at 0x00000286D1DAAE50>>"
      ]
     },
     "execution_count": 35,
     "metadata": {},
     "output_type": "execute_result"
    }
   ],
   "source": [
    "cursor1=connection1.cursor()\n",
    "cursor1.execute(\"\"\"insert into Bookings (TableNo, GuestFirstName, GuestLastName, BookingSlot, EmployeeID) \n",
    "VALUES (8, \"annes\", \"java\", '18:00:00', 6)\"\"\")\n",
    "connection1.commit"
   ]
  },
  {
   "cell_type": "code",
   "execution_count": 36,
   "id": "bdb20139",
   "metadata": {},
   "outputs": [
    {
     "name": "stdout",
     "output_type": "stream",
     "text": [
      "('Mario Gollini', 1)\n"
     ]
    }
   ],
   "source": [
    "cursor.execute(\"\"\" select Name, EmployeeID FROM Employees WHERE Role = 'Manager' \"\"\")\n",
    "results = cursor.fetchall()\n",
    "for result in results:\n",
    "    print(result)"
   ]
  },
  {
   "cell_type": "code",
   "execution_count": 37,
   "id": "58af43ae",
   "metadata": {},
   "outputs": [
    {
     "name": "stdout",
     "output_type": "stream",
     "text": [
      "('Mario Gollini', 'Manager')\n",
      "('Adrian Gollini', 'Assistant Manager')\n",
      "('Giorgos Dioudis', 'Head Chef')\n",
      "('Fatma Kaya', 'Assistant Chef')\n",
      "('Elena Salvai', 'Head Waiter')\n",
      "('John Millar', 'Receptionist')\n"
     ]
    }
   ],
   "source": [
    "cursor.execute(\"\"\"select Name, Role FROM Employees ORDER BY Annual_Salary DESC\"\"\")\n",
    "results = cursor.fetchall()\n",
    "for i in results:\n",
    "    print(i)"
   ]
  },
  {
   "cell_type": "code",
   "execution_count": 38,
   "id": "14b69889",
   "metadata": {},
   "outputs": [
    {
     "name": "stdout",
     "output_type": "stream",
     "text": [
      "(4,)\n"
     ]
    }
   ],
   "source": [
    "cursor.execute(\"\"\"select COUNT(HOUR(BookingSlot)) FROM Bookings WHERE HOUR(BookingSlot) BETWEEN '18:00:00' AND '20:00:00' \"\"\")\n",
    "results = cursor.fetchall()\n",
    "for i in results:\n",
    "  print(i)"
   ]
  },
  {
   "cell_type": "code",
   "execution_count": 39,
   "id": "19c6f9d5",
   "metadata": {},
   "outputs": [
    {
     "name": "stdout",
     "output_type": "stream",
     "text": [
      "('BookingID', 'FullName', 'Role')\n"
     ]
    }
   ],
   "source": [
    "cursor.execute(\"\"\"select b.BookingID, CONCAT(b.GuestFirstName,\" \",b.GuestLastName) as FullName, e.Role FROM Bookings as b LEFT JOIN Employees as e ON b.EmployeeID = e.EmployeeID \n",
    "WHERE e.Role ='Receptionist' ORDER BY b.BookingSlot \"\"\")\n",
    "results= cursor.fetchall()\n",
    "cols = cursor.column_names\n",
    "print(cols)\n",
    "for i in results:\n",
    "    print(i)"
   ]
  },
  {
   "cell_type": "code",
   "execution_count": 40,
   "id": "41a6e449",
   "metadata": {},
   "outputs": [
    {
     "ename": "SyntaxError",
     "evalue": "invalid syntax (3682546300.py, line 1)",
     "output_type": "error",
     "traceback": [
      "\u001b[1;36m  Cell \u001b[1;32mIn[40], line 1\u001b[1;36m\u001b[0m\n\u001b[1;33m    CREATE PROCEDURE BasicSalesReport()\u001b[0m\n\u001b[1;37m           ^\u001b[0m\n\u001b[1;31mSyntaxError\u001b[0m\u001b[1;31m:\u001b[0m invalid syntax\n"
     ]
    }
   ],
   "source": [
    "CREATE PROCEDURE BasicSalesReport()\n",
    "BEGIN\n",
    "    SELECT \n",
    "        SUM(AmountPaid) AS 'Total Sales',\n",
    "        AVG(AmountPaid) AS 'Average Sale',\n",
    "        MIN(AmountPaid) AS 'Minimum Bill Paid',\n",
    "        MAX(AmountPaid) AS 'Maximum Bill Paid'\n",
    "    FROM Orders;\n",
    "END"
   ]
  },
  {
   "cell_type": "code",
   "execution_count": null,
   "id": "026d0fe9",
   "metadata": {},
   "outputs": [],
   "source": []
  }
 ],
 "metadata": {
  "kernelspec": {
   "display_name": "Python 3 (ipykernel)",
   "language": "python",
   "name": "python3"
  },
  "language_info": {
   "codemirror_mode": {
    "name": "ipython",
    "version": 3
   },
   "file_extension": ".py",
   "mimetype": "text/x-python",
   "name": "python",
   "nbconvert_exporter": "python",
   "pygments_lexer": "ipython3",
   "version": "3.11.2"
  }
 },
 "nbformat": 4,
 "nbformat_minor": 5
}
